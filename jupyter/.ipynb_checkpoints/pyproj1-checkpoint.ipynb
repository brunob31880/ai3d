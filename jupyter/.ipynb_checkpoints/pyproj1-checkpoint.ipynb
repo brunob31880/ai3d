{
 "cells": [
  {
   "cell_type": "code",
   "execution_count": null,
   "id": "c7860422",
   "metadata": {},
   "outputs": [],
   "source": [
    "import pyproj\n",
    "\n",
    "# Coordonnées Lambert 93\n",
    "x_lambert = 474987.5\n",
    "y_lambert = 6175012.5\n",
    "\n",
    "# Création du transformer de coordonnées\n",
    "in_proj = pyproj.Proj(init='epsg:2154')  # Lambert 93\n",
    "out_proj = pyproj.Proj(init='epsg:4326')  # WGS84\n",
    "lon, lat = pyproj.transform(in_proj, out_proj, x_lambert, y_lambert)\n",
    "\n",
    "print(\"Longitude: {:.6f}, Latitude: {:.6f}\".format(lon, lat))"
   ]
  }
 ],
 "metadata": {
  "kernelspec": {
   "display_name": "Python 3 (ipykernel)",
   "language": "python",
   "name": "python3"
  },
  "language_info": {
   "codemirror_mode": {
    "name": "ipython",
    "version": 3
   },
   "file_extension": ".py",
   "mimetype": "text/x-python",
   "name": "python",
   "nbconvert_exporter": "python",
   "pygments_lexer": "ipython3",
   "version": "3.9.13"
  }
 },
 "nbformat": 4,
 "nbformat_minor": 5
}
