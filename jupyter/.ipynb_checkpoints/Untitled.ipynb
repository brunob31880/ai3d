{
 "cells": [
  {
   "cell_type": "code",
   "execution_count": 18,
   "id": "3cde4959",
   "metadata": {},
   "outputs": [],
   "source": [
    "import shapefile\n",
    "import json\n",
    "import sys"
   ]
  },
  {
   "cell_type": "code",
   "execution_count": 19,
   "id": "e4ea41b3",
   "metadata": {},
   "outputs": [],
   "source": [
    "def read_shapefile(ficURL):\n",
    "    # Ouvrir rezle fichier shapefile\n",
    "    sf = shapefile.Reader(ficURL)\n",
    "    # Récupérer les enregistrements (records) et les champs (fields) du shapefile\n",
    "    records = sf.records()\n",
    "    #print(len(records))\n",
    "    fields = sf.fields[1:]\n",
    "    print(fields)\n",
    "    #print(fields)\n",
    "    # Créer la liste des features GeoJSON\n",
    "    features = []\n",
    "    #for record in records:\n",
    "    #   print(record)"
   ]
  },
  {
   "cell_type": "code",
   "execution_count": 13,
   "id": "e2026bba",
   "metadata": {},
   "outputs": [
    {
     "name": "stdout",
     "output_type": "stream",
     "text": [
      "[['code', 'N', 9, 0], ['resolution', 'C', 80, 0], ['origine', 'C', 80, 0], ['precision', 'C', 80, 0]]\n"
     ]
    }
   ],
   "source": [
    "read_shapefile('../src/datas/BDALTIV/SRC_BDALTIV2_PPK_25M_WGS84G.shp')"
   ]
  },
  {
   "cell_type": "code",
   "execution_count": null,
   "id": "d22a7230",
   "metadata": {},
   "outputs": [],
   "source": [
    "import shapefile\n",
    "\n",
    "# Ouverture du fichier shapefile en lecture seule\n",
    "sf = shapefile.Reader('../src/datas/BDALTIV/SRC_BDALTIV2_PPK_25M_WGS84G.shp')\n",
    "\n",
    "# Affichage des informations de la couche (nombre d'enregistrements, type géométrique, etc.)\n",
    "print(\"ShapeFile \",sf)\n",
    "print(\"Fields \",sf.fields)\n",
    "\n",
    "# Boucle à travers les enregistrements et affichage des informations de chaque enregistrement\n",
    "for shape_rec in sf.shapeRecords():\n",
    "    print(\"Record=\",shape_rec.record)\n",
    "    print(\"Shape=\",shape_rec.shape)\n",
    "    #print(\"Points=\",shape_rec.shape.points)\n",
    "\n",
    "# Fermeture du fichier shapefile\n",
    "sf.close()"
   ]
  },
  {
   "cell_type": "code",
   "execution_count": null,
   "id": "adc34684",
   "metadata": {},
   "outputs": [],
   "source": []
  },
  {
   "cell_type": "code",
   "execution_count": null,
   "id": "0a0c4ddd",
   "metadata": {},
   "outputs": [],
   "source": []
  }
 ],
 "metadata": {
  "kernelspec": {
   "display_name": "Python 3 (ipykernel)",
   "language": "python",
   "name": "python3"
  },
  "language_info": {
   "codemirror_mode": {
    "name": "ipython",
    "version": 3
   },
   "file_extension": ".py",
   "mimetype": "text/x-python",
   "name": "python",
   "nbconvert_exporter": "python",
   "pygments_lexer": "ipython3",
   "version": "3.9.13"
  }
 },
 "nbformat": 4,
 "nbformat_minor": 5
}
