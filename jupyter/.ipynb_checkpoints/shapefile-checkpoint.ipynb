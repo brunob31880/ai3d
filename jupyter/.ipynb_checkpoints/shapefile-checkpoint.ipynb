{
 "cells": [
  {
   "cell_type": "code",
   "execution_count": null,
   "id": "aa6d5107",
   "metadata": {},
   "outputs": [
    {
     "name": "stdout",
     "output_type": "stream",
     "text": [
      "ShapeFile  shapefile Reader\n",
      "    151838 shapes (type 'POLYGON')\n",
      "    151838 records (5 fields)\n",
      "Fields  [('DeletionFlag', 'C', 1, 0), ['code', 'N', 9, 0], ['resolution', 'C', 80, 0], ['origine', 'C', 80, 0], ['precision', 'C', 80, 0]]\n"
     ]
    }
   ],
   "source": [
    "import shapefile\n",
    "\n",
    "# Ouverture du fichier shapefile en lecture seule\n",
    "sf = shapefile.Reader('../src/datas/BDALTIV/SRC_BDALTIV2_PPK_25M_WGS84G.shp')\n",
    "\n",
    "# Affichage des informations de la couche (nombre d'enregistrements, type géométrique, etc.)\n",
    "print(\"ShapeFile \",sf)\n",
    "print(\"Fields \",sf.fields)\n",
    "\n",
    "# Boucle à travers les enregistrements et affichage des informations de chaque enregistrement\n",
    "for shape_rec in sf.shapeRecords():\n",
    "    print(\"Record=\",shape_rec.record)\n",
    "    print(\"Shape=\",shape_rec.shape)\n",
    "    #print(\"Points=\",shape_rec.shape.points)\n",
    "\n",
    "# Fermeture du fichier shapefile\n",
    "sf.close()"
   ]
  },
  {
   "cell_type": "code",
   "execution_count": null,
   "id": "c9790007",
   "metadata": {},
   "outputs": [],
   "source": []
  }
 ],
 "metadata": {
  "kernelspec": {
   "display_name": "Python 3 (ipykernel)",
   "language": "python",
   "name": "python3"
  },
  "language_info": {
   "codemirror_mode": {
    "name": "ipython",
    "version": 3
   },
   "file_extension": ".py",
   "mimetype": "text/x-python",
   "name": "python",
   "nbconvert_exporter": "python",
   "pygments_lexer": "ipython3",
   "version": "3.9.13"
  }
 },
 "nbformat": 4,
 "nbformat_minor": 5
}
