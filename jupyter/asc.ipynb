{
 "cells": [
  {
   "cell_type": "code",
   "execution_count": 1,
   "id": "c974666a",
   "metadata": {},
   "outputs": [],
   "source": [
    "FILE='../src/datas/BDALTIV/BDALTIV2_2-0_250M_ASC_LAMB93-IGN69_FRANCE_2018-01-15/BDALTIV2/1_DONNEES_LIVRAISON_2018-01-00246/BDALTIV2_MNT_250M_ASC_LAMB93_IGN69_FRANCE/BDALTIV2_250M_FXX_0098_7150_MNT_LAMB93_IGN69.asc'"
   ]
  },
  {
   "cell_type": "code",
   "execution_count": 2,
   "id": "9d3555f3",
   "metadata": {},
   "outputs": [],
   "source": [
    "import numpy as np\n",
    "import pyproj\n",
    "import pyvista as pv\n",
    "import meshio\n",
    "\n",
    "with open(FILE, \"r\") as fichier:\n",
    "    # Lire les six premières lignes pour extraire les informations de la grille\n",
    "    ncols = int(fichier.readline().split()[1])\n",
    "    nrows = int(fichier.readline().split()[1])\n",
    "    xllcorner = float(fichier.readline().split()[1])\n",
    "    yllcorner = float(fichier.readline().split()[1])\n",
    "    # Création du transformer de coordonnées\n",
    "    in_proj = pyproj.Proj(init='epsg:2154')  # Lambert 93\n",
    "    out_proj = pyproj.Proj(init='epsg:4326')  # WGS84\n",
    "    lon, lat = pyproj.transform(in_proj, out_proj, xllcorner, yllcorner)\n",
    "    cellsize = float(fichier.readline().split()[1])\n",
    "    nodata_value = float(fichier.readline().split()[1])\n",
    "\n",
    "    # Lire les données de la grille dans un tableau NumPy\n",
    "    grille = np.zeros((nrows, ncols))\n",
    "    for i in range(nrows):\n",
    "        ligne = np.array([float(x) if float(x) != nodata_value else 0.0 for x in fichier.readline().split()])\n",
    "        grille[i, :] = ligne\n",
    "\n",
    "# Créer un objet UniformGrid à partir des données de la grille\n",
    "grid = pv.UniformGrid()\n",
    "grid.dimensions = (ncols, nrows, 1)\n",
    "grid.origin = (lon, lat, 0) # longitude, latitude, altitude\n",
    "grid.spacing = (cellsize, cellsize, 1)\n",
    "grid.point_data[\"values\"] = grille.flatten(order=\"F\")\n"
   ]
  },
  {
   "cell_type": "code",
   "execution_count": 3,
   "id": "5fb93afb",
   "metadata": {},
   "outputs": [
    {
     "data": {
      "text/html": [
       "<table><tr><th>Header</th><th>Data Arrays</th></tr><tr><td>\n",
       "<table>\n",
       "<tr><th>UniformGrid</th><th>Information</th></tr>\n",
       "<tr><td>N Cells</td><td>21150801</td></tr>\n",
       "<tr><td>N Points</td><td>21160000</td></tr>\n",
       "<tr><td>X Bounds</td><td>-4.124e+00, 1.150e+06</td></tr>\n",
       "<tr><td>Y Bounds</td><td>4.086e+01, 1.150e+06</td></tr>\n",
       "<tr><td>Z Bounds</td><td>0.000e+00, 0.000e+00</td></tr>\n",
       "<tr><td>Dimensions</td><td>4600, 4600, 1</td></tr>\n",
       "<tr><td>Spacing</td><td>2.500e+02, 2.500e+02, 1.000e+00</td></tr>\n",
       "<tr><td>N Arrays</td><td>1</td></tr>\n",
       "</table>\n",
       "\n",
       "</td><td>\n",
       "<table>\n",
       "<tr><th>Name</th><th>Field</th><th>Type</th><th>N Comp</th><th>Min</th><th>Max</th></tr>\n",
       "<tr><td><b>values</b></td><td>Points</td><td>float64</td><td>1</td><td>-8.967e+01</td><td>4.750e+03</td></tr>\n",
       "</table>\n",
       "\n",
       "</td></tr> </table>"
      ],
      "text/plain": [
       "UniformGrid (0x7fc163e17d60)\n",
       "  N Cells:      21150801\n",
       "  N Points:     21160000\n",
       "  X Bounds:     -4.124e+00, 1.150e+06\n",
       "  Y Bounds:     4.086e+01, 1.150e+06\n",
       "  Z Bounds:     0.000e+00, 0.000e+00\n",
       "  Dimensions:   4600, 4600, 1\n",
       "  Spacing:      2.500e+02, 2.500e+02, 1.000e+00\n",
       "  N Arrays:     1"
      ]
     },
     "execution_count": 3,
     "metadata": {},
     "output_type": "execute_result"
    }
   ],
   "source": [
    "grid"
   ]
  },
  {
   "cell_type": "code",
   "execution_count": 4,
   "id": "03bc858d",
   "metadata": {},
   "outputs": [
    {
     "data": {
      "text/plain": [
       "(4600, 4600, 1)"
      ]
     },
     "execution_count": 4,
     "metadata": {},
     "output_type": "execute_result"
    }
   ],
   "source": [
    "grid.dimensions"
   ]
  },
  {
   "cell_type": "code",
   "execution_count": 5,
   "id": "a3721e07",
   "metadata": {},
   "outputs": [
    {
     "data": {
      "application/vnd.jupyter.widget-view+json": {
       "model_id": "5aed6a89ec1947b48bdf6ea0087b201b",
       "version_major": 2,
       "version_minor": 0
      },
      "text/plain": [
       "Widget(value=\"<iframe src='http://localhost:65509/index.html?ui=P_0x7fc161c67670_0&reconnect=auto' style='widt…"
      ]
     },
     "metadata": {},
     "output_type": "display_data"
    }
   ],
   "source": [
    "subset = grid.extract_subset((0, 5000, 0, 5000, 0, 0), (5, 5, 1))\n",
    "subset.plot(cpos=\"xy\")\n"
   ]
  },
  {
   "cell_type": "code",
   "execution_count": 9,
   "id": "cc01b590",
   "metadata": {
    "scrolled": true
   },
   "outputs": [],
   "source": [
    "terrain = subset.warp_by_scalar()"
   ]
  },
  {
   "cell_type": "code",
   "execution_count": 10,
   "id": "8b4659ca",
   "metadata": {},
   "outputs": [
    {
     "data": {
      "text/html": [
       "<table><tr><th>Header</th><th>Data Arrays</th></tr><tr><td>\n",
       "<table>\n",
       "<tr><th>StructuredGrid</th><th>Information</th></tr>\n",
       "<tr><td>N Cells</td><td>844561</td></tr>\n",
       "<tr><td>N Points</td><td>846400</td></tr>\n",
       "<tr><td>X Bounds</td><td>-4.124e+00, 1.149e+06</td></tr>\n",
       "<tr><td>Y Bounds</td><td>4.086e+01, 1.149e+06</td></tr>\n",
       "<tr><td>Z Bounds</td><td>-4.166e+01, 4.370e+03</td></tr>\n",
       "<tr><td>Dimensions</td><td>920, 920, 1</td></tr>\n",
       "<tr><td>N Arrays</td><td>1</td></tr>\n",
       "</table>\n",
       "\n",
       "</td><td>\n",
       "<table>\n",
       "<tr><th>Name</th><th>Field</th><th>Type</th><th>N Comp</th><th>Min</th><th>Max</th></tr>\n",
       "<tr><td><b>values</b></td><td>Points</td><td>float64</td><td>1</td><td>-4.166e+01</td><td>4.370e+03</td></tr>\n",
       "</table>\n",
       "\n",
       "</td></tr> </table>"
      ],
      "text/plain": [
       "StructuredGrid (0x7fc1386ba940)\n",
       "  N Cells:      844561\n",
       "  N Points:     846400\n",
       "  X Bounds:     -4.124e+00, 1.149e+06\n",
       "  Y Bounds:     4.086e+01, 1.149e+06\n",
       "  Z Bounds:     -4.166e+01, 4.370e+03\n",
       "  Dimensions:   920, 920, 1\n",
       "  N Arrays:     1"
      ]
     },
     "execution_count": 10,
     "metadata": {},
     "output_type": "execute_result"
    }
   ],
   "source": [
    "terrain"
   ]
  },
  {
   "cell_type": "code",
   "execution_count": 11,
   "id": "c7c1a132",
   "metadata": {},
   "outputs": [
    {
     "data": {
      "application/vnd.jupyter.widget-view+json": {
       "model_id": "8554e13a80ac4a2ea5c96a88765046f9",
       "version_major": 2,
       "version_minor": 0
      },
      "text/plain": [
       "Widget(value=\"<iframe src='http://localhost:65509/index.html?ui=P_0x7fc13120deb0_2&reconnect=auto' style='widt…"
      ]
     },
     "metadata": {},
     "output_type": "display_data"
    }
   ],
   "source": [
    "terrain.plot()"
   ]
  },
  {
   "cell_type": "code",
   "execution_count": null,
   "id": "beafa8a3",
   "metadata": {},
   "outputs": [],
   "source": [
    "# extraire la géométrie comme une PolyData\n",
    "polydata = grid.extract_geometry()\n",
    "\n",
    "# sauvegarder la PolyData au format STL\n",
    "polydata.save('terrain.stl')"
   ]
  },
  {
   "cell_type": "code",
   "execution_count": null,
   "id": "85fe0281",
   "metadata": {},
   "outputs": [],
   "source": []
  },
  {
   "cell_type": "code",
   "execution_count": null,
   "id": "e84f2b9e",
   "metadata": {},
   "outputs": [],
   "source": []
  }
 ],
 "metadata": {
  "kernelspec": {
   "display_name": "Python 3 (ipykernel)",
   "language": "python",
   "name": "python3"
  },
  "language_info": {
   "codemirror_mode": {
    "name": "ipython",
    "version": 3
   },
   "file_extension": ".py",
   "mimetype": "text/x-python",
   "name": "python",
   "nbconvert_exporter": "python",
   "pygments_lexer": "ipython3",
   "version": "3.9.13"
  }
 },
 "nbformat": 4,
 "nbformat_minor": 5
}
