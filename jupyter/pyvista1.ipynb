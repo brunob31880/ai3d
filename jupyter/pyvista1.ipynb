{
 "cells": [
  {
   "cell_type": "code",
   "execution_count": 10,
   "id": "b57b30bd",
   "metadata": {},
   "outputs": [
    {
     "data": {
      "application/vnd.jupyter.widget-view+json": {
       "model_id": "f100060dcab248e4ad27ff2b7cc0c3a8",
       "version_major": 2,
       "version_minor": 0
      },
      "text/plain": [
       "Widget(value=\"<iframe src='http://localhost:61520/index.html?ui=P_0x7fcb9b60b670_5&reconnect=auto' style='widt…"
      ]
     },
     "metadata": {},
     "output_type": "display_data"
    }
   ],
   "source": [
    "import pyvista\n",
    "plane = pyvista.Plane()\n",
    "plane.point_data.clear()\n",
    "plane.plot(show_edges=True, line_width=1)"
   ]
  },
  {
   "cell_type": "code",
   "execution_count": 6,
   "id": "e160a334",
   "metadata": {},
   "outputs": [
    {
     "name": "stdout",
     "output_type": "stream",
     "text": [
      "0.38.5\n"
     ]
    }
   ],
   "source": [
    "print(pv.__version__)"
   ]
  },
  {
   "cell_type": "code",
   "execution_count": 9,
   "id": "3d235cee",
   "metadata": {},
   "outputs": [
    {
     "data": {
      "application/vnd.jupyter.widget-view+json": {
       "model_id": "45ab3dc2f1a6429db9d976c5c3e38cfe",
       "version_major": 2,
       "version_minor": 0
      },
      "text/plain": [
       "Widget(value=\"<iframe src='http://localhost:61520/index.html?ui=P_0x7fcb98dec850_4&reconnect=auto' style='widt…"
      ]
     },
     "metadata": {},
     "output_type": "display_data"
    }
   ],
   "source": [
    "mesh = plane.triangulate()\n",
    "mesh.plot(show_edges=True, line_width=1)"
   ]
  },
  {
   "cell_type": "code",
   "execution_count": 12,
   "id": "e8eea6cb",
   "metadata": {},
   "outputs": [
    {
     "data": {
      "text/html": [
       "<table><tr><th>Header</th><th>Data Arrays</th></tr><tr><td>\n",
       "<table>\n",
       "<tr><th>UniformGrid</th><th>Information</th></tr>\n",
       "<tr><td>N Cells</td><td>1677401</td></tr>\n",
       "<tr><td>N Points</td><td>1680000</td></tr>\n",
       "<tr><td>X Bounds</td><td>1.810e+06, 1.831e+06</td></tr>\n",
       "<tr><td>Y Bounds</td><td>5.640e+06, 5.658e+06</td></tr>\n",
       "<tr><td>Z Bounds</td><td>0.000e+00, 0.000e+00</td></tr>\n",
       "<tr><td>Dimensions</td><td>1400, 1200, 1</td></tr>\n",
       "<tr><td>Spacing</td><td>1.500e+01, 1.500e+01, 0.000e+00</td></tr>\n",
       "<tr><td>N Arrays</td><td>1</td></tr>\n",
       "</table>\n",
       "\n",
       "</td><td>\n",
       "<table>\n",
       "<tr><th>Name</th><th>Field</th><th>Type</th><th>N Comp</th><th>Min</th><th>Max</th></tr>\n",
       "<tr><td><b>scalar1of1</b></td><td>Points</td><td>float64</td><td>1</td><td>7.339e+02</td><td>2.787e+03</td></tr>\n",
       "</table>\n",
       "\n",
       "</td></tr> </table>"
      ],
      "text/plain": [
       "UniformGrid (0x7fcb9a8da580)\n",
       "  N Cells:      1677401\n",
       "  N Points:     1680000\n",
       "  X Bounds:     1.810e+06, 1.831e+06\n",
       "  Y Bounds:     5.640e+06, 5.658e+06\n",
       "  Z Bounds:     0.000e+00, 0.000e+00\n",
       "  Dimensions:   1400, 1200, 1\n",
       "  Spacing:      1.500e+01, 1.500e+01, 0.000e+00\n",
       "  N Arrays:     1"
      ]
     },
     "execution_count": 12,
     "metadata": {},
     "output_type": "execute_result"
    }
   ],
   "source": [
    "from pyvista import examples\n",
    "dem = examples.download_crater_topo()\n",
    "dem"
   ]
  },
  {
   "cell_type": "code",
   "execution_count": 20,
   "id": "623382c9",
   "metadata": {},
   "outputs": [],
   "source": [
    "subset = dem.extract_subset((500, 900, 400, 800, 0, 0), (5, 5,5))"
   ]
  },
  {
   "cell_type": "code",
   "execution_count": 21,
   "id": "7a2007b5",
   "metadata": {},
   "outputs": [
    {
     "data": {
      "text/html": [
       "<table><tr><th>Header</th><th>Data Arrays</th></tr><tr><td>\n",
       "<table>\n",
       "<tr><th>UniformGrid</th><th>Information</th></tr>\n",
       "<tr><td>N Cells</td><td>6400</td></tr>\n",
       "<tr><td>N Points</td><td>6561</td></tr>\n",
       "<tr><td>X Bounds</td><td>1.818e+06, 1.824e+06</td></tr>\n",
       "<tr><td>Y Bounds</td><td>5.646e+06, 5.652e+06</td></tr>\n",
       "<tr><td>Z Bounds</td><td>0.000e+00, 0.000e+00</td></tr>\n",
       "<tr><td>Dimensions</td><td>81, 81, 1</td></tr>\n",
       "<tr><td>Spacing</td><td>7.500e+01, 7.500e+01, 0.000e+00</td></tr>\n",
       "<tr><td>N Arrays</td><td>1</td></tr>\n",
       "</table>\n",
       "\n",
       "</td><td>\n",
       "<table>\n",
       "<tr><th>Name</th><th>Field</th><th>Type</th><th>N Comp</th><th>Min</th><th>Max</th></tr>\n",
       "<tr><td><b>scalar1of1</b></td><td>Points</td><td>float64</td><td>1</td><td>1.441e+03</td><td>2.769e+03</td></tr>\n",
       "</table>\n",
       "\n",
       "</td></tr> </table>"
      ],
      "text/plain": [
       "UniformGrid (0x7fcb9b938e80)\n",
       "  N Cells:      6400\n",
       "  N Points:     6561\n",
       "  X Bounds:     1.818e+06, 1.824e+06\n",
       "  Y Bounds:     5.646e+06, 5.652e+06\n",
       "  Z Bounds:     0.000e+00, 0.000e+00\n",
       "  Dimensions:   81, 81, 1\n",
       "  Spacing:      7.500e+01, 7.500e+01, 0.000e+00\n",
       "  N Arrays:     1"
      ]
     },
     "execution_count": 21,
     "metadata": {},
     "output_type": "execute_result"
    }
   ],
   "source": [
    "subset"
   ]
  },
  {
   "cell_type": "code",
   "execution_count": 22,
   "id": "d91f3b0b",
   "metadata": {
    "scrolled": true
   },
   "outputs": [
    {
     "data": {
      "application/vnd.jupyter.widget-view+json": {
       "model_id": "a8bfab9fc0f74bbe87a2f229f2fd793d",
       "version_major": 2,
       "version_minor": 0
      },
      "text/plain": [
       "Widget(value=\"<iframe src='http://localhost:61520/index.html?ui=P_0x7fcb9e5808e0_8&reconnect=auto' style='widt…"
      ]
     },
     "metadata": {},
     "output_type": "display_data"
    }
   ],
   "source": [
    "subset.plot(cpos=\"xy\")"
   ]
  },
  {
   "cell_type": "code",
   "execution_count": 14,
   "id": "5e58c154",
   "metadata": {},
   "outputs": [
    {
     "data": {
      "text/html": [
       "<table><tr><th>Header</th><th>Data Arrays</th></tr><tr><td>\n",
       "<table>\n",
       "<tr><th>StructuredGrid</th><th>Information</th></tr>\n",
       "<tr><td>N Cells</td><td>6400</td></tr>\n",
       "<tr><td>N Points</td><td>6561</td></tr>\n",
       "<tr><td>X Bounds</td><td>1.818e+06, 1.824e+06</td></tr>\n",
       "<tr><td>Y Bounds</td><td>5.646e+06, 5.652e+06</td></tr>\n",
       "<tr><td>Z Bounds</td><td>1.441e+03, 2.769e+03</td></tr>\n",
       "<tr><td>Dimensions</td><td>81, 81, 1</td></tr>\n",
       "<tr><td>N Arrays</td><td>1</td></tr>\n",
       "</table>\n",
       "\n",
       "</td><td>\n",
       "<table>\n",
       "<tr><th>Name</th><th>Field</th><th>Type</th><th>N Comp</th><th>Min</th><th>Max</th></tr>\n",
       "<tr><td><b>scalar1of1</b></td><td>Points</td><td>float64</td><td>1</td><td>1.441e+03</td><td>2.769e+03</td></tr>\n",
       "</table>\n",
       "\n",
       "</td></tr> </table>"
      ],
      "text/plain": [
       "StructuredGrid (0x7fcb9e56ffa0)\n",
       "  N Cells:      6400\n",
       "  N Points:     6561\n",
       "  X Bounds:     1.818e+06, 1.824e+06\n",
       "  Y Bounds:     5.646e+06, 5.652e+06\n",
       "  Z Bounds:     1.441e+03, 2.769e+03\n",
       "  Dimensions:   81, 81, 1\n",
       "  N Arrays:     1"
      ]
     },
     "execution_count": 14,
     "metadata": {},
     "output_type": "execute_result"
    }
   ],
   "source": [
    "terrain = subset.warp_by_scalar()\n",
    "terrain"
   ]
  },
  {
   "cell_type": "code",
   "execution_count": 15,
   "id": "333a1274",
   "metadata": {},
   "outputs": [
    {
     "data": {
      "application/vnd.jupyter.widget-view+json": {
       "model_id": "b6a475915f7340d0853593335b16d1d4",
       "version_major": 2,
       "version_minor": 0
      },
      "text/plain": [
       "Widget(value=\"<iframe src='http://localhost:61520/index.html?ui=P_0x7fcb9e56aa30_7&reconnect=auto' style='widt…"
      ]
     },
     "metadata": {},
     "output_type": "display_data"
    }
   ],
   "source": [
    "terrain.plot()"
   ]
  },
  {
   "cell_type": "code",
   "execution_count": null,
   "id": "4ecf824d",
   "metadata": {},
   "outputs": [],
   "source": []
  }
 ],
 "metadata": {
  "kernelspec": {
   "display_name": "Python 3 (ipykernel)",
   "language": "python",
   "name": "python3"
  },
  "language_info": {
   "codemirror_mode": {
    "name": "ipython",
    "version": 3
   },
   "file_extension": ".py",
   "mimetype": "text/x-python",
   "name": "python",
   "nbconvert_exporter": "python",
   "pygments_lexer": "ipython3",
   "version": "3.9.13"
  }
 },
 "nbformat": 4,
 "nbformat_minor": 5
}
