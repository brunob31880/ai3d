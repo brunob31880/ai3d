{
 "cells": [
  {
   "cell_type": "code",
   "execution_count": 1,
   "id": "554ef492",
   "metadata": {},
   "outputs": [
    {
     "name": "stdout",
     "output_type": "stream",
     "text": [
      "Longitude: 0.259450, Latitude: 42.639633\n"
     ]
    },
    {
     "name": "stderr",
     "output_type": "stream",
     "text": [
      "/Users/brunoboissie/opt/anaconda3/lib/python3.9/site-packages/pyproj/crs/crs.py:141: FutureWarning: '+init=<authority>:<code>' syntax is deprecated. '<authority>:<code>' is the preferred initialization method. When making the change, be mindful of axis order changes: https://pyproj4.github.io/pyproj/stable/gotchas.html#axis-order-changes-in-proj-6\n",
      "  in_crs_string = _prepare_from_proj_string(in_crs_string)\n",
      "/Users/brunoboissie/opt/anaconda3/lib/python3.9/site-packages/pyproj/crs/crs.py:141: FutureWarning: '+init=<authority>:<code>' syntax is deprecated. '<authority>:<code>' is the preferred initialization method. When making the change, be mindful of axis order changes: https://pyproj4.github.io/pyproj/stable/gotchas.html#axis-order-changes-in-proj-6\n",
      "  in_crs_string = _prepare_from_proj_string(in_crs_string)\n",
      "/var/folders/fk/9_wbdxkd29jd5rj1svg6n3pm0000gn/T/ipykernel_7580/1823423623.py:10: FutureWarning: This function is deprecated. See: https://pyproj4.github.io/pyproj/stable/gotchas.html#upgrading-to-pyproj-2-from-pyproj-1\n",
      "  lon, lat = pyproj.transform(in_proj, out_proj, x_lambert, y_lambert)\n"
     ]
    }
   ],
   "source": [
    "import pyproj\n",
    "\n",
    "# Coordonnées Lambert 93\n",
    "x_lambert = 474987.5\n",
    "y_lambert = 6175012.5\n",
    "\n",
    "# Création du transformer de coordonnées\n",
    "in_proj = pyproj.Proj(init='epsg:2154')  # Lambert 93\n",
    "out_proj = pyproj.Proj(init='epsg:4326')  # WGS84\n",
    "lon, lat = pyproj.transform(in_proj, out_proj, x_lambert, y_lambert)\n",
    "\n",
    "print(\"Longitude: {:.6f}, Latitude: {:.6f}\".format(lon, lat))"
   ]
  },
  {
   "cell_type": "code",
   "execution_count": null,
   "id": "2eb6a41c",
   "metadata": {},
   "outputs": [],
   "source": []
  }
 ],
 "metadata": {
  "kernelspec": {
   "display_name": "Python 3 (ipykernel)",
   "language": "python",
   "name": "python3"
  },
  "language_info": {
   "codemirror_mode": {
    "name": "ipython",
    "version": 3
   },
   "file_extension": ".py",
   "mimetype": "text/x-python",
   "name": "python",
   "nbconvert_exporter": "python",
   "pygments_lexer": "ipython3",
   "version": "3.9.13"
  }
 },
 "nbformat": 4,
 "nbformat_minor": 5
}
