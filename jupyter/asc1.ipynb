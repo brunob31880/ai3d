{
 "cells": [
  {
   "cell_type": "code",
   "execution_count": null,
   "id": "99e83156",
   "metadata": {},
   "outputs": [],
   "source": [
    "FILE='../src/datas/BDALTIV/BDALTIV2_2-0_250M_ASC_LAMB93-IGN69_FRANCE_2018-01-15/BDALTIV2/1_DONNEES_LIVRAISON_2018-01-00246/BDALTIV2_MNT_250M_ASC_LAMB93_IGN69_FRANCE/BDALTIV2_250M_FXX_0098_7150_MNT_LAMB93_IGN69.asc'"
   ]
  },
  {
   "cell_type": "code",
   "execution_count": null,
   "id": "5fa14500",
   "metadata": {},
   "outputs": [],
   "source": [
    "import numpy as np\n",
    "import pyproj\n",
    "import pyvista as pv\n",
    "import meshio\n",
    "\n",
    "with open(FILE, \"r\") as fichier:\n",
    "    # Lire les six premières lignes pour extraire les informations de la grille\n",
    "    ncols = int(fichier.readline().split()[1])\n",
    "    nrows = int(fichier.readline().split()[1])\n",
    "    xllcorner = float(fichier.readline().split()[1])\n",
    "    yllcorner = float(fichier.readline().split()[1])\n",
    "    # Création du transformer de coordonnées\n",
    "    in_proj = pyproj.Proj(init='epsg:2154')  # Lambert 93\n",
    "    out_proj = pyproj.Proj(init='epsg:4326')  # WGS84\n",
    "    lon, lat = pyproj.transform(in_proj, out_proj, xllcorner, yllcorner)\n",
    "    cellsize = float(fichier.readline().split()[1])\n",
    "    nodata_value = float(fichier.readline().split()[1])\n",
    "\n",
    "    # Lire les données de la grille dans un tableau NumPy\n",
    "    grille = np.zeros((nrows, ncols))\n",
    "    for i in range(nrows):\n",
    "        ligne = np.array([float(x) for x in fichier.readline().split()])\n",
    "        grille[i, :] = ligne\n",
    "\n",
    "# Créer un nuage de points à partir des données de la grille\n",
    "x, y = np.meshgrid(np.arange(ncols)*cellsize + xllcorner, np.arange(nrows)*cellsize + yllcorner)\n",
    "z = grille.ravel()\n",
    "points = np.column_stack((x.ravel(), y.ravel(), z))\n",
    "print(\"Points=\",points.shape)\n",
    "\n",
    "surf = pv.PolyData(points)\n",
    "surf\n"
   ]
  }
 ],
 "metadata": {
  "kernelspec": {
   "display_name": "Python 3 (ipykernel)",
   "language": "python",
   "name": "python3"
  },
  "language_info": {
   "codemirror_mode": {
    "name": "ipython",
    "version": 3
   },
   "file_extension": ".py",
   "mimetype": "text/x-python",
   "name": "python",
   "nbconvert_exporter": "python",
   "pygments_lexer": "ipython3",
   "version": "3.9.13"
  }
 },
 "nbformat": 4,
 "nbformat_minor": 5
}
